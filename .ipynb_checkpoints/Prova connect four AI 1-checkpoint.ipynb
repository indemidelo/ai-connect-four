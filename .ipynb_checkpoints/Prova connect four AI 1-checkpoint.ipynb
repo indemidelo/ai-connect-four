{
 "cells": [
  {
   "cell_type": "code",
   "execution_count": null,
   "metadata": {},
   "outputs": [],
   "source": [
    "import os\n",
    "import numpy as np\n",
    "from sklearn.model_selection import train_test_split"
   ]
  },
  {
   "cell_type": "code",
   "execution_count": 140,
   "metadata": {},
   "outputs": [],
   "source": [
    "# ultime due mosse\n",
    "states = np.load('ai_states.npy')\n",
    "actions = np.load('ai_actions.npy')"
   ]
  },
  {
   "cell_type": "code",
   "execution_count": 206,
   "metadata": {},
   "outputs": [
    {
     "name": "stdout",
     "output_type": "stream",
     "text": [
      "(4984, 6, 7)\n",
      "(4984,)\n"
     ]
    }
   ],
   "source": [
    "print(states.shape)\n",
    "print(actions.shape)"
   ]
  },
  {
   "cell_type": "code",
   "execution_count": 207,
   "metadata": {},
   "outputs": [],
   "source": [
    "states = states.reshape((-1, 6, 7, 1))"
   ]
  },
  {
   "cell_type": "code",
   "execution_count": 208,
   "metadata": {},
   "outputs": [],
   "source": [
    "X_train, X_test, Y_train, Y_test = train_test_split(states, actions, test_size=0.01, random_state=123)"
   ]
  },
  {
   "cell_type": "code",
   "execution_count": 209,
   "metadata": {},
   "outputs": [
    {
     "name": "stdout",
     "output_type": "stream",
     "text": [
      "(4934, 6, 7, 1)\n",
      "(4934,)\n",
      "(50, 6, 7, 1)\n",
      "(50,)\n"
     ]
    }
   ],
   "source": [
    "print(X_train.shape)\n",
    "print(Y_train.shape)\n",
    "print(X_test.shape)\n",
    "print(Y_test.shape)"
   ]
  },
  {
   "cell_type": "code",
   "execution_count": null,
   "metadata": {},
   "outputs": [],
   "source": [
    "from keras.models import load_model\n",
    "model = load_module('my_first_model.h5')"
   ]
  },
  {
   "cell_type": "code",
   "execution_count": 245,
   "metadata": {},
   "outputs": [
    {
     "name": "stdout",
     "output_type": "stream",
     "text": [
      "Epoch 1/100\n",
      "4934/4934 [==============================] - 1s 205us/step - loss: 0.4219 - acc: 0.8431\n",
      "Epoch 2/100\n",
      "4934/4934 [==============================] - 1s 199us/step - loss: 0.4234 - acc: 0.8407\n",
      "Epoch 3/100\n",
      "4934/4934 [==============================] - 1s 197us/step - loss: 0.4207 - acc: 0.8403\n",
      "Epoch 4/100\n",
      "4934/4934 [==============================] - 1s 199us/step - loss: 0.4173 - acc: 0.8472\n",
      "Epoch 5/100\n",
      "4934/4934 [==============================] - 1s 196us/step - loss: 0.4180 - acc: 0.8462\n",
      "Epoch 6/100\n",
      "4934/4934 [==============================] - 1s 196us/step - loss: 0.4209 - acc: 0.8425\n",
      "Epoch 7/100\n",
      "4934/4934 [==============================] - 1s 196us/step - loss: 0.4145 - acc: 0.8464\n",
      "Epoch 8/100\n",
      "4934/4934 [==============================] - 1s 195us/step - loss: 0.4175 - acc: 0.8454\n",
      "Epoch 9/100\n",
      "4934/4934 [==============================] - 1s 198us/step - loss: 0.4161 - acc: 0.8460\n",
      "Epoch 10/100\n",
      "4934/4934 [==============================] - 1s 198us/step - loss: 0.4161 - acc: 0.8429\n",
      "Epoch 11/100\n",
      "4934/4934 [==============================] - 1s 196us/step - loss: 0.4139 - acc: 0.8468\n",
      "Epoch 12/100\n",
      "4934/4934 [==============================] - 1s 198us/step - loss: 0.4154 - acc: 0.8458\n",
      "Epoch 13/100\n",
      "4934/4934 [==============================] - 1s 199us/step - loss: 0.4142 - acc: 0.8401\n",
      "Epoch 14/100\n",
      "4934/4934 [==============================] - 1s 202us/step - loss: 0.4116 - acc: 0.8516\n",
      "Epoch 15/100\n",
      "4934/4934 [==============================] - 1s 197us/step - loss: 0.4108 - acc: 0.8486\n",
      "Epoch 16/100\n",
      "4934/4934 [==============================] - 1s 199us/step - loss: 0.4104 - acc: 0.8445\n",
      "Epoch 17/100\n",
      "4934/4934 [==============================] - 1s 195us/step - loss: 0.4092 - acc: 0.8494\n",
      "Epoch 18/100\n",
      "4934/4934 [==============================] - 1s 197us/step - loss: 0.4110 - acc: 0.8452\n",
      "Epoch 19/100\n",
      "4934/4934 [==============================] - 1s 205us/step - loss: 0.4067 - acc: 0.8476\n",
      "Epoch 20/100\n",
      "4934/4934 [==============================] - 1s 199us/step - loss: 0.4080 - acc: 0.8502\n",
      "Epoch 21/100\n",
      "4934/4934 [==============================] - 1s 200us/step - loss: 0.4043 - acc: 0.8458\n",
      "Epoch 22/100\n",
      "4934/4934 [==============================] - 1s 198us/step - loss: 0.4074 - acc: 0.8492\n",
      "Epoch 23/100\n",
      "4934/4934 [==============================] - 1s 204us/step - loss: 0.4040 - acc: 0.8498\n",
      "Epoch 24/100\n",
      "4934/4934 [==============================] - 1s 202us/step - loss: 0.4029 - acc: 0.8470\n",
      "Epoch 25/100\n",
      "4934/4934 [==============================] - 1s 204us/step - loss: 0.4050 - acc: 0.8494\n",
      "Epoch 26/100\n",
      "4934/4934 [==============================] - 1s 200us/step - loss: 0.4008 - acc: 0.8543\n",
      "Epoch 27/100\n",
      "4934/4934 [==============================] - 1s 197us/step - loss: 0.4010 - acc: 0.8557\n",
      "Epoch 28/100\n",
      "4934/4934 [==============================] - 1s 203us/step - loss: 0.4004 - acc: 0.8502\n",
      "Epoch 29/100\n",
      "4934/4934 [==============================] - 1s 201us/step - loss: 0.4024 - acc: 0.8474\n",
      "Epoch 30/100\n",
      "4934/4934 [==============================] - 1s 199us/step - loss: 0.4000 - acc: 0.8559\n",
      "Epoch 31/100\n",
      "4934/4934 [==============================] - 1s 199us/step - loss: 0.3997 - acc: 0.8500\n",
      "Epoch 32/100\n",
      "4934/4934 [==============================] - 1s 202us/step - loss: 0.3983 - acc: 0.8492\n",
      "Epoch 33/100\n",
      "4934/4934 [==============================] - 1s 198us/step - loss: 0.3969 - acc: 0.8525\n",
      "Epoch 34/100\n",
      "4934/4934 [==============================] - 1s 199us/step - loss: 0.3935 - acc: 0.8482\n",
      "Epoch 35/100\n",
      "4934/4934 [==============================] - 1s 197us/step - loss: 0.3954 - acc: 0.8531\n",
      "Epoch 36/100\n",
      "4934/4934 [==============================] - 1s 194us/step - loss: 0.3917 - acc: 0.8575\n",
      "Epoch 37/100\n",
      "4934/4934 [==============================] - 1s 215us/step - loss: 0.3918 - acc: 0.8547\n",
      "Epoch 38/100\n",
      "4934/4934 [==============================] - 1s 201us/step - loss: 0.3912 - acc: 0.8518\n",
      "Epoch 39/100\n",
      "4934/4934 [==============================] - 1s 198us/step - loss: 0.3931 - acc: 0.8557\n",
      "Epoch 40/100\n",
      "4934/4934 [==============================] - 1s 196us/step - loss: 0.3925 - acc: 0.8563\n",
      "Epoch 41/100\n",
      "4934/4934 [==============================] - 1s 197us/step - loss: 0.3931 - acc: 0.8531\n",
      "Epoch 42/100\n",
      "4934/4934 [==============================] - 1s 199us/step - loss: 0.3932 - acc: 0.8522\n",
      "Epoch 43/100\n",
      "4934/4934 [==============================] - 1s 200us/step - loss: 0.3893 - acc: 0.8551\n",
      "Epoch 44/100\n",
      "4934/4934 [==============================] - 1s 196us/step - loss: 0.3894 - acc: 0.8575\n",
      "Epoch 45/100\n",
      "4934/4934 [==============================] - 1s 197us/step - loss: 0.3918 - acc: 0.8535\n",
      "Epoch 46/100\n",
      "4934/4934 [==============================] - 1s 195us/step - loss: 0.3885 - acc: 0.8545\n",
      "Epoch 47/100\n",
      "4934/4934 [==============================] - 1s 199us/step - loss: 0.3859 - acc: 0.8569\n",
      "Epoch 48/100\n",
      "4934/4934 [==============================] - 1s 197us/step - loss: 0.3881 - acc: 0.8516\n",
      "Epoch 49/100\n",
      "4934/4934 [==============================] - 1s 198us/step - loss: 0.3838 - acc: 0.8557\n",
      "Epoch 50/100\n",
      "4934/4934 [==============================] - 1s 196us/step - loss: 0.3818 - acc: 0.8583\n",
      "Epoch 51/100\n",
      "4934/4934 [==============================] - 1s 204us/step - loss: 0.3836 - acc: 0.8569\n",
      "Epoch 52/100\n",
      "4934/4934 [==============================] - 1s 206us/step - loss: 0.3826 - acc: 0.8600\n",
      "Epoch 53/100\n",
      "4934/4934 [==============================] - 1s 207us/step - loss: 0.3827 - acc: 0.8529\n",
      "Epoch 54/100\n",
      "4934/4934 [==============================] - 1s 199us/step - loss: 0.3798 - acc: 0.8579\n",
      "Epoch 55/100\n",
      "4934/4934 [==============================] - 1s 219us/step - loss: 0.3823 - acc: 0.8583\n",
      "Epoch 56/100\n",
      "4934/4934 [==============================] - 1s 202us/step - loss: 0.3798 - acc: 0.8591\n",
      "Epoch 57/100\n",
      "4934/4934 [==============================] - 1s 203us/step - loss: 0.3773 - acc: 0.8583\n",
      "Epoch 58/100\n",
      "4934/4934 [==============================] - 1s 201us/step - loss: 0.3791 - acc: 0.8591\n",
      "Epoch 59/100\n",
      "4934/4934 [==============================] - 1s 203us/step - loss: 0.3744 - acc: 0.8632\n",
      "Epoch 60/100\n",
      "4934/4934 [==============================] - 1s 201us/step - loss: 0.3798 - acc: 0.8567\n",
      "Epoch 61/100\n",
      "4934/4934 [==============================] - 1s 203us/step - loss: 0.3774 - acc: 0.8646\n",
      "Epoch 62/100\n",
      "4934/4934 [==============================] - 1s 200us/step - loss: 0.3718 - acc: 0.8630\n",
      "Epoch 63/100\n",
      "4934/4934 [==============================] - 1s 200us/step - loss: 0.3759 - acc: 0.8577\n",
      "Epoch 64/100\n",
      "4934/4934 [==============================] - 1s 201us/step - loss: 0.3778 - acc: 0.8616\n",
      "Epoch 65/100\n",
      "4934/4934 [==============================] - 1s 204us/step - loss: 0.3736 - acc: 0.8591\n",
      "Epoch 66/100\n",
      "4934/4934 [==============================] - 1s 198us/step - loss: 0.3739 - acc: 0.8589\n",
      "Epoch 67/100\n",
      "4934/4934 [==============================] - 1s 200us/step - loss: 0.3732 - acc: 0.8626\n",
      "Epoch 68/100\n",
      "4934/4934 [==============================] - 1s 219us/step - loss: 0.3697 - acc: 0.8632\n",
      "Epoch 69/100\n",
      "4934/4934 [==============================] - 1s 202us/step - loss: 0.3722 - acc: 0.8602\n",
      "Epoch 70/100\n",
      "4934/4934 [==============================] - 1s 202us/step - loss: 0.3722 - acc: 0.8608\n",
      "Epoch 71/100\n",
      "4934/4934 [==============================] - 1s 200us/step - loss: 0.3712 - acc: 0.8640\n",
      "Epoch 72/100\n",
      "4934/4934 [==============================] - 1s 200us/step - loss: 0.3685 - acc: 0.8668\n",
      "Epoch 73/100\n",
      "4934/4934 [==============================] - 1s 198us/step - loss: 0.3691 - acc: 0.8593\n",
      "Epoch 74/100\n",
      "4934/4934 [==============================] - 1s 196us/step - loss: 0.3672 - acc: 0.8634\n",
      "Epoch 75/100\n",
      "4934/4934 [==============================] - 1s 197us/step - loss: 0.3693 - acc: 0.8622\n",
      "Epoch 76/100\n",
      "4934/4934 [==============================] - 1s 199us/step - loss: 0.3672 - acc: 0.8632\n",
      "Epoch 77/100\n",
      "4934/4934 [==============================] - 1s 197us/step - loss: 0.3635 - acc: 0.8644\n",
      "Epoch 78/100\n",
      "4934/4934 [==============================] - 1s 204us/step - loss: 0.3647 - acc: 0.8666\n",
      "Epoch 79/100\n",
      "4934/4934 [==============================] - 1s 206us/step - loss: 0.3622 - acc: 0.8648\n",
      "Epoch 80/100\n",
      "4934/4934 [==============================] - 1s 201us/step - loss: 0.3648 - acc: 0.8666\n",
      "Epoch 81/100\n",
      "4934/4934 [==============================] - 1s 200us/step - loss: 0.3638 - acc: 0.8638\n",
      "Epoch 82/100\n",
      "4934/4934 [==============================] - 1s 197us/step - loss: 0.3667 - acc: 0.8654\n",
      "Epoch 83/100\n",
      "4934/4934 [==============================] - 1s 201us/step - loss: 0.3617 - acc: 0.8604\n",
      "Epoch 84/100\n",
      "4934/4934 [==============================] - 1s 200us/step - loss: 0.3643 - acc: 0.8610\n",
      "Epoch 85/100\n",
      "4934/4934 [==============================] - 1s 199us/step - loss: 0.3598 - acc: 0.8697\n",
      "Epoch 86/100\n",
      "4934/4934 [==============================] - 1s 198us/step - loss: 0.3592 - acc: 0.8650\n",
      "Epoch 87/100\n",
      "4934/4934 [==============================] - 1s 199us/step - loss: 0.3630 - acc: 0.8616\n",
      "Epoch 88/100\n",
      "4934/4934 [==============================] - 1s 198us/step - loss: 0.3596 - acc: 0.8656\n",
      "Epoch 89/100\n",
      "4934/4934 [==============================] - 1s 205us/step - loss: 0.3540 - acc: 0.8703\n",
      "Epoch 90/100\n",
      "4934/4934 [==============================] - 1s 197us/step - loss: 0.3598 - acc: 0.8681\n",
      "Epoch 91/100\n",
      "4934/4934 [==============================] - 1s 196us/step - loss: 0.3550 - acc: 0.8660\n",
      "Epoch 92/100\n",
      "4934/4934 [==============================] - 1s 198us/step - loss: 0.3548 - acc: 0.8677\n",
      "Epoch 93/100\n",
      "4934/4934 [==============================] - 1s 198us/step - loss: 0.3551 - acc: 0.8687\n",
      "Epoch 94/100\n",
      "4934/4934 [==============================] - 1s 201us/step - loss: 0.3544 - acc: 0.8685\n",
      "Epoch 95/100\n",
      "4934/4934 [==============================] - 1s 208us/step - loss: 0.3549 - acc: 0.8677\n",
      "Epoch 96/100\n",
      "4934/4934 [==============================] - 1s 212us/step - loss: 0.3541 - acc: 0.8656\n",
      "Epoch 97/100\n",
      "4934/4934 [==============================] - 1s 198us/step - loss: 0.3586 - acc: 0.8646\n",
      "Epoch 98/100\n",
      "4934/4934 [==============================] - 1s 199us/step - loss: 0.3550 - acc: 0.8725\n",
      "Epoch 99/100\n",
      "4934/4934 [==============================] - 1s 204us/step - loss: 0.3507 - acc: 0.8737\n",
      "Epoch 100/100\n",
      "4934/4934 [==============================] - 1s 202us/step - loss: 0.3540 - acc: 0.8672\n"
     ]
    },
    {
     "data": {
      "text/plain": [
       "<keras.callbacks.History at 0x1621d552208>"
      ]
     },
     "execution_count": 245,
     "metadata": {},
     "output_type": "execute_result"
    }
   ],
   "source": [
    "from sklearn import metrics\n",
    "model.fit(X_train, Y_train, epochs=100, verbose=False)"
   ]
  },
  {
   "cell_type": "code",
   "execution_count": 246,
   "metadata": {},
   "outputs": [
    {
     "name": "stdout",
     "output_type": "stream",
     "text": [
      "4934/4934 [==============================] - 0s 91us/step\n",
      "50/50 [==============================] - 0s 170us/step\n"
     ]
    }
   ],
   "source": [
    "_, train_acc = model.evaluate(X_train, Y_train)\n",
    "_, test_acc = model.evaluate(X_test, Y_test)\n",
    "variance_train = np.var(Y_train)\n",
    "variance_test = np.var(Y_test)"
   ]
  },
  {
   "cell_type": "code",
   "execution_count": 247,
   "metadata": {},
   "outputs": [
    {
     "name": "stdout",
     "output_type": "stream",
     "text": [
      "confusion matrix test:\n",
      " [[3 0 0 0 0 0 0]\n",
      " [0 3 2 1 1 2 0]\n",
      " [0 0 9 3 1 2 0]\n",
      " [0 1 1 5 1 2 2]\n",
      " [0 1 0 1 1 2 0]\n",
      " [0 0 1 0 0 1 0]\n",
      " [0 0 0 2 0 0 2]]\n"
     ]
    }
   ],
   "source": [
    "Y_pred = [np.argmax(j) for j in model.predict(X_test)]\n",
    "confusion_matrix = metrics.confusion_matrix(Y_test, Y_pred)\n",
    "print('confusion matrix test:\\n', confusion_matrix)"
   ]
  },
  {
   "cell_type": "code",
   "execution_count": 248,
   "metadata": {},
   "outputs": [
    {
     "name": "stdout",
     "output_type": "stream",
     "text": [
      "confusion matrix train:\n",
      " [[ 377    7   19   18    2    3    0]\n",
      " [   5  548   13   29   12    9    0]\n",
      " [   3   13  747   46   15   16    2]\n",
      " [   4   11   21 1034   21   30    3]\n",
      " [   3   12   34   52  702   28    8]\n",
      " [   1    2   13   22   12  586    4]\n",
      " [   0    1    6   14    4   13  409]]\n"
     ]
    }
   ],
   "source": [
    "Y_pred = [np.argmax(j) for j in model.predict(X_train)]\n",
    "confusion_matrix = metrics.confusion_matrix(Y_train, Y_pred)\n",
    "print('confusion matrix train:\\n', confusion_matrix)"
   ]
  },
  {
   "cell_type": "code",
   "execution_count": null,
   "metadata": {},
   "outputs": [],
   "source": [
    "from keras.models import load_model\n",
    "model.save('my_first_model.h5')"
   ]
  }
 ],
 "metadata": {
  "kernelspec": {
   "display_name": "Python 3",
   "language": "python",
   "name": "python3"
  },
  "language_info": {
   "codemirror_mode": {
    "name": "ipython",
    "version": 3
   },
   "file_extension": ".py",
   "mimetype": "text/x-python",
   "name": "python",
   "nbconvert_exporter": "python",
   "pygments_lexer": "ipython3",
   "version": "3.6.7"
  }
 },
 "nbformat": 4,
 "nbformat_minor": 2
}
