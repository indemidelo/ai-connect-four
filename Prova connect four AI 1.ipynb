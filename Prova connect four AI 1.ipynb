{
 "cells": [
  {
   "cell_type": "code",
   "execution_count": 1,
   "metadata": {},
   "outputs": [],
   "source": [
    "import os\n",
    "import numpy as np\n",
    "from sklearn.model_selection import train_test_split"
   ]
  },
  {
   "cell_type": "code",
   "execution_count": 2,
   "metadata": {},
   "outputs": [],
   "source": [
    "# ultime due mosse\n",
    "states = np.load('ai_states.npy')\n",
    "actions = np.load('ai_actions.npy')"
   ]
  },
  {
   "cell_type": "code",
   "execution_count": 3,
   "metadata": {},
   "outputs": [
    {
     "name": "stdout",
     "output_type": "stream",
     "text": [
      "(10000, 6, 7)\n",
      "(10000,)\n"
     ]
    }
   ],
   "source": [
    "print(states.shape)\n",
    "print(actions.shape)"
   ]
  },
  {
   "cell_type": "code",
   "execution_count": 4,
   "metadata": {},
   "outputs": [],
   "source": [
    "states = states.reshape((-1, 6, 7, 1))"
   ]
  },
  {
   "cell_type": "code",
   "execution_count": 5,
   "metadata": {},
   "outputs": [],
   "source": [
    "X_train, X_test, Y_train, Y_test = train_test_split(states, actions, test_size=0.01, random_state=123)"
   ]
  },
  {
   "cell_type": "code",
   "execution_count": 6,
   "metadata": {},
   "outputs": [
    {
     "name": "stdout",
     "output_type": "stream",
     "text": [
      "(9900, 6, 7, 1)\n",
      "(9900,)\n",
      "(100, 6, 7, 1)\n",
      "(100,)\n"
     ]
    }
   ],
   "source": [
    "print(X_train.shape)\n",
    "print(Y_train.shape)\n",
    "print(X_test.shape)\n",
    "print(Y_test.shape)"
   ]
  },
  {
   "cell_type": "code",
   "execution_count": 8,
   "metadata": {},
   "outputs": [],
   "source": [
    "from keras.models import load_model\n",
    "model = load_model('my_first_model.h5')"
   ]
  },
  {
   "cell_type": "code",
   "execution_count": 10,
   "metadata": {},
   "outputs": [
    {
     "name": "stdout",
     "output_type": "stream",
     "text": [
      "Epoch 1/100\n",
      "9900/9900 [==============================] - 1s 67us/step - loss: 0.4539 - acc: 0.8339\n",
      "Epoch 2/100\n",
      "9900/9900 [==============================] - 1s 67us/step - loss: 0.4527 - acc: 0.8339\n",
      "Epoch 3/100\n",
      "9900/9900 [==============================] - 1s 67us/step - loss: 0.4535 - acc: 0.8343\n",
      "Epoch 4/100\n",
      "9900/9900 [==============================] - 1s 66us/step - loss: 0.4510 - acc: 0.8345\n",
      "Epoch 5/100\n",
      "9900/9900 [==============================] - 1s 69us/step - loss: 0.4508 - acc: 0.8342\n",
      "Epoch 6/100\n",
      "9900/9900 [==============================] - 1s 67us/step - loss: 0.4488 - acc: 0.8323\n",
      "Epoch 7/100\n",
      "9900/9900 [==============================] - 1s 67us/step - loss: 0.4489 - acc: 0.8321\n",
      "Epoch 8/100\n",
      "9900/9900 [==============================] - 1s 68us/step - loss: 0.4477 - acc: 0.8322\n",
      "Epoch 9/100\n",
      "9900/9900 [==============================] - 1s 67us/step - loss: 0.4477 - acc: 0.8351\n",
      "Epoch 10/100\n",
      "9900/9900 [==============================] - 1s 67us/step - loss: 0.4457 - acc: 0.8340\n",
      "Epoch 11/100\n",
      "9900/9900 [==============================] - 1s 67us/step - loss: 0.4455 - acc: 0.8330\n",
      "Epoch 12/100\n",
      "9900/9900 [==============================] - 1s 68us/step - loss: 0.4457 - acc: 0.8308\n",
      "Epoch 13/100\n",
      "9900/9900 [==============================] - 1s 69us/step - loss: 0.4457 - acc: 0.8333\n",
      "Epoch 14/100\n",
      "9900/9900 [==============================] - 1s 68us/step - loss: 0.4438 - acc: 0.8325\n",
      "Epoch 15/100\n",
      "9900/9900 [==============================] - 1s 68us/step - loss: 0.4437 - acc: 0.8349\n",
      "Epoch 16/100\n",
      "9900/9900 [==============================] - 1s 68us/step - loss: 0.4421 - acc: 0.8338\n",
      "Epoch 17/100\n",
      "9900/9900 [==============================] - 1s 67us/step - loss: 0.4429 - acc: 0.8322\n",
      "Epoch 18/100\n",
      "9900/9900 [==============================] - 1s 68us/step - loss: 0.4415 - acc: 0.8327\n",
      "Epoch 19/100\n",
      "9900/9900 [==============================] - 1s 68us/step - loss: 0.4402 - acc: 0.8342\n",
      "Epoch 20/100\n",
      "9900/9900 [==============================] - 1s 67us/step - loss: 0.4400 - acc: 0.8339\n",
      "Epoch 21/100\n",
      "9900/9900 [==============================] - 1s 68us/step - loss: 0.4398 - acc: 0.8333\n",
      "Epoch 22/100\n",
      "9900/9900 [==============================] - 1s 67us/step - loss: 0.4375 - acc: 0.8375\n",
      "Epoch 23/100\n",
      "9900/9900 [==============================] - 1s 69us/step - loss: 0.4376 - acc: 0.8346\n",
      "Epoch 24/100\n",
      "9900/9900 [==============================] - 1s 70us/step - loss: 0.4367 - acc: 0.8345\n",
      "Epoch 25/100\n",
      "9900/9900 [==============================] - 1s 67us/step - loss: 0.4358 - acc: 0.8346\n",
      "Epoch 26/100\n",
      "9900/9900 [==============================] - 1s 67us/step - loss: 0.4351 - acc: 0.8343\n",
      "Epoch 27/100\n",
      "9900/9900 [==============================] - 1s 71us/step - loss: 0.4365 - acc: 0.8324\n",
      "Epoch 28/100\n",
      "9900/9900 [==============================] - 1s 68us/step - loss: 0.4357 - acc: 0.8333\n",
      "Epoch 29/100\n",
      "9900/9900 [==============================] - 1s 67us/step - loss: 0.4350 - acc: 0.8341\n",
      "Epoch 30/100\n",
      "9900/9900 [==============================] - 1s 67us/step - loss: 0.4360 - acc: 0.8340\n",
      "Epoch 31/100\n",
      "9900/9900 [==============================] - 1s 69us/step - loss: 0.4349 - acc: 0.8334\n",
      "Epoch 32/100\n",
      "9900/9900 [==============================] - 1s 67us/step - loss: 0.4340 - acc: 0.8347\n",
      "Epoch 33/100\n",
      "9900/9900 [==============================] - 1s 67us/step - loss: 0.4339 - acc: 0.8324\n",
      "Epoch 34/100\n",
      "9900/9900 [==============================] - 1s 68us/step - loss: 0.4327 - acc: 0.8344\n",
      "Epoch 35/100\n",
      "9900/9900 [==============================] - 1s 69us/step - loss: 0.4332 - acc: 0.8340\n",
      "Epoch 36/100\n",
      "9900/9900 [==============================] - 1s 68us/step - loss: 0.4328 - acc: 0.8358\n",
      "Epoch 37/100\n",
      "9900/9900 [==============================] - 1s 68us/step - loss: 0.4322 - acc: 0.8348\n",
      "Epoch 38/100\n",
      "9900/9900 [==============================] - 1s 70us/step - loss: 0.4325 - acc: 0.8341\n",
      "Epoch 39/100\n",
      "9900/9900 [==============================] - 1s 68us/step - loss: 0.4317 - acc: 0.8356\n",
      "Epoch 40/100\n",
      "9900/9900 [==============================] - 1s 68us/step - loss: 0.4323 - acc: 0.8359\n",
      "Epoch 41/100\n",
      "9900/9900 [==============================] - 1s 68us/step - loss: 0.4322 - acc: 0.8346\n",
      "Epoch 42/100\n",
      "9900/9900 [==============================] - 1s 68us/step - loss: 0.4320 - acc: 0.8353\n",
      "Epoch 43/100\n",
      "9900/9900 [==============================] - 1s 67us/step - loss: 0.4302 - acc: 0.8345\n",
      "Epoch 44/100\n",
      "9900/9900 [==============================] - 1s 70us/step - loss: 0.4315 - acc: 0.8353\n",
      "Epoch 45/100\n",
      "9900/9900 [==============================] - 1s 68us/step - loss: 0.4309 - acc: 0.8374\n",
      "Epoch 46/100\n",
      "9900/9900 [==============================] - 1s 68us/step - loss: 0.4305 - acc: 0.8359\n",
      "Epoch 47/100\n",
      "9900/9900 [==============================] - 1s 70us/step - loss: 0.4304 - acc: 0.8341\n",
      "Epoch 48/100\n",
      "9900/9900 [==============================] - 1s 67us/step - loss: 0.4304 - acc: 0.8353\n",
      "Epoch 49/100\n",
      "9900/9900 [==============================] - 1s 66us/step - loss: 0.4294 - acc: 0.8386\n",
      "Epoch 50/100\n",
      "9900/9900 [==============================] - 1s 68us/step - loss: 0.4305 - acc: 0.8354\n",
      "Epoch 51/100\n",
      "9900/9900 [==============================] - 1s 67us/step - loss: 0.4303 - acc: 0.8351\n",
      "Epoch 52/100\n",
      "9900/9900 [==============================] - 1s 67us/step - loss: 0.4285 - acc: 0.8380\n",
      "Epoch 53/100\n",
      "9900/9900 [==============================] - 1s 69us/step - loss: 0.4291 - acc: 0.8346\n",
      "Epoch 54/100\n",
      "9900/9900 [==============================] - 1s 66us/step - loss: 0.4294 - acc: 0.8364\n",
      "Epoch 55/100\n",
      "9900/9900 [==============================] - 1s 66us/step - loss: 0.4277 - acc: 0.8371\n",
      "Epoch 56/100\n",
      "9900/9900 [==============================] - 1s 67us/step - loss: 0.4290 - acc: 0.8362\n",
      "Epoch 57/100\n",
      "9900/9900 [==============================] - 1s 67us/step - loss: 0.4291 - acc: 0.8340\n",
      "Epoch 58/100\n",
      "9900/9900 [==============================] - 1s 67us/step - loss: 0.4280 - acc: 0.8362\n",
      "Epoch 59/100\n",
      "9900/9900 [==============================] - 1s 67us/step - loss: 0.4276 - acc: 0.8364\n",
      "Epoch 60/100\n",
      "9900/9900 [==============================] - 1s 67us/step - loss: 0.4279 - acc: 0.8353\n",
      "Epoch 61/100\n",
      "9900/9900 [==============================] - 1s 67us/step - loss: 0.4272 - acc: 0.8357\n",
      "Epoch 62/100\n",
      "9900/9900 [==============================] - 1s 71us/step - loss: 0.4260 - acc: 0.8378\n",
      "Epoch 63/100\n",
      "9900/9900 [==============================] - 1s 68us/step - loss: 0.4257 - acc: 0.8341\n",
      "Epoch 64/100\n",
      "9900/9900 [==============================] - 1s 67us/step - loss: 0.4270 - acc: 0.8355\n",
      "Epoch 65/100\n",
      "9900/9900 [==============================] - 1s 67us/step - loss: 0.4260 - acc: 0.8349\n",
      "Epoch 66/100\n",
      "9900/9900 [==============================] - 1s 68us/step - loss: 0.4282 - acc: 0.8353\n",
      "Epoch 67/100\n",
      "9900/9900 [==============================] - 1s 68us/step - loss: 0.4260 - acc: 0.8359\n",
      "Epoch 68/100\n",
      "9900/9900 [==============================] - 1s 68us/step - loss: 0.4264 - acc: 0.8368\n",
      "Epoch 69/100\n",
      "9900/9900 [==============================] - 1s 67us/step - loss: 0.4266 - acc: 0.8346\n",
      "Epoch 70/100\n",
      "9900/9900 [==============================] - 1s 66us/step - loss: 0.4252 - acc: 0.8376\n",
      "Epoch 71/100\n",
      "9900/9900 [==============================] - 1s 67us/step - loss: 0.4260 - acc: 0.8363\n",
      "Epoch 72/100\n",
      "9900/9900 [==============================] - 1s 67us/step - loss: 0.4244 - acc: 0.8374\n",
      "Epoch 73/100\n",
      "9900/9900 [==============================] - 1s 67us/step - loss: 0.4248 - acc: 0.8365\n",
      "Epoch 74/100\n",
      "9900/9900 [==============================] - 1s 68us/step - loss: 0.4253 - acc: 0.8358\n",
      "Epoch 75/100\n",
      "9900/9900 [==============================] - 1s 68us/step - loss: 0.4265 - acc: 0.8335\n",
      "Epoch 76/100\n",
      "9900/9900 [==============================] - 1s 67us/step - loss: 0.4252 - acc: 0.8352\n",
      "Epoch 77/100\n",
      "9900/9900 [==============================] - 1s 67us/step - loss: 0.4252 - acc: 0.8349\n",
      "Epoch 78/100\n",
      "9900/9900 [==============================] - 1s 67us/step - loss: 0.4233 - acc: 0.8378\n",
      "Epoch 79/100\n",
      "9900/9900 [==============================] - 1s 68us/step - loss: 0.4240 - acc: 0.8368\n",
      "Epoch 80/100\n",
      "9900/9900 [==============================] - 1s 67us/step - loss: 0.4238 - acc: 0.8353\n",
      "Epoch 81/100\n",
      "9900/9900 [==============================] - 1s 68us/step - loss: 0.4240 - acc: 0.8380\n",
      "Epoch 82/100\n",
      "9900/9900 [==============================] - 1s 67us/step - loss: 0.4233 - acc: 0.8375\n",
      "Epoch 83/100\n"
     ]
    },
    {
     "name": "stdout",
     "output_type": "stream",
     "text": [
      "9900/9900 [==============================] - 1s 67us/step - loss: 0.4241 - acc: 0.8367\n",
      "Epoch 84/100\n",
      "9900/9900 [==============================] - 1s 65us/step - loss: 0.4243 - acc: 0.8371\n",
      "Epoch 85/100\n",
      "9900/9900 [==============================] - 1s 66us/step - loss: 0.4241 - acc: 0.8349\n",
      "Epoch 86/100\n",
      "9900/9900 [==============================] - 1s 66us/step - loss: 0.4229 - acc: 0.8369\n",
      "Epoch 87/100\n",
      "9900/9900 [==============================] - 1s 67us/step - loss: 0.4241 - acc: 0.8366\n",
      "Epoch 88/100\n",
      "9900/9900 [==============================] - 1s 66us/step - loss: 0.4230 - acc: 0.8357\n",
      "Epoch 89/100\n",
      "9900/9900 [==============================] - 1s 66us/step - loss: 0.4233 - acc: 0.8345\n",
      "Epoch 90/100\n",
      "9900/9900 [==============================] - 1s 66us/step - loss: 0.4233 - acc: 0.8370\n",
      "Epoch 91/100\n",
      "9900/9900 [==============================] - 1s 66us/step - loss: 0.4237 - acc: 0.8366\n",
      "Epoch 92/100\n",
      "9900/9900 [==============================] - 1s 66us/step - loss: 0.4227 - acc: 0.8376\n",
      "Epoch 93/100\n",
      "9900/9900 [==============================] - 1s 66us/step - loss: 0.4242 - acc: 0.8333\n",
      "Epoch 94/100\n",
      "9900/9900 [==============================] - 1s 65us/step - loss: 0.4226 - acc: 0.8367\n",
      "Epoch 95/100\n",
      "9900/9900 [==============================] - 1s 68us/step - loss: 0.4224 - acc: 0.8383\n",
      "Epoch 96/100\n",
      "9900/9900 [==============================] - 1s 66us/step - loss: 0.4234 - acc: 0.8367\n",
      "Epoch 97/100\n",
      "9900/9900 [==============================] - 1s 66us/step - loss: 0.4221 - acc: 0.8343\n",
      "Epoch 98/100\n",
      "9900/9900 [==============================] - 1s 65us/step - loss: 0.4230 - acc: 0.8364\n",
      "Epoch 99/100\n",
      "9900/9900 [==============================] - 1s 66us/step - loss: 0.4231 - acc: 0.8362\n",
      "Epoch 100/100\n",
      "9900/9900 [==============================] - 1s 67us/step - loss: 0.4214 - acc: 0.8347\n"
     ]
    },
    {
     "data": {
      "text/plain": [
       "<keras.callbacks.History at 0x23042c72160>"
      ]
     },
     "execution_count": 10,
     "metadata": {},
     "output_type": "execute_result"
    }
   ],
   "source": [
    "from sklearn import metrics\n",
    "model.fit(X_train, Y_train, epochs=100)"
   ]
  },
  {
   "cell_type": "code",
   "execution_count": 246,
   "metadata": {},
   "outputs": [
    {
     "name": "stdout",
     "output_type": "stream",
     "text": [
      "4934/4934 [==============================] - 0s 91us/step\n",
      "50/50 [==============================] - 0s 170us/step\n"
     ]
    }
   ],
   "source": [
    "_, train_acc = model.evaluate(X_train, Y_train)\n",
    "_, test_acc = model.evaluate(X_test, Y_test)\n",
    "variance_train = np.var(Y_train)\n",
    "variance_test = np.var(Y_test)"
   ]
  },
  {
   "cell_type": "code",
   "execution_count": 247,
   "metadata": {},
   "outputs": [
    {
     "name": "stdout",
     "output_type": "stream",
     "text": [
      "confusion matrix test:\n",
      " [[3 0 0 0 0 0 0]\n",
      " [0 3 2 1 1 2 0]\n",
      " [0 0 9 3 1 2 0]\n",
      " [0 1 1 5 1 2 2]\n",
      " [0 1 0 1 1 2 0]\n",
      " [0 0 1 0 0 1 0]\n",
      " [0 0 0 2 0 0 2]]\n"
     ]
    }
   ],
   "source": [
    "Y_pred = [np.argmax(j) for j in model.predict(X_test)]\n",
    "confusion_matrix = metrics.confusion_matrix(Y_test, Y_pred)\n",
    "print('confusion matrix test:\\n', confusion_matrix)"
   ]
  },
  {
   "cell_type": "code",
   "execution_count": 248,
   "metadata": {},
   "outputs": [
    {
     "name": "stdout",
     "output_type": "stream",
     "text": [
      "confusion matrix train:\n",
      " [[ 377    7   19   18    2    3    0]\n",
      " [   5  548   13   29   12    9    0]\n",
      " [   3   13  747   46   15   16    2]\n",
      " [   4   11   21 1034   21   30    3]\n",
      " [   3   12   34   52  702   28    8]\n",
      " [   1    2   13   22   12  586    4]\n",
      " [   0    1    6   14    4   13  409]]\n"
     ]
    }
   ],
   "source": [
    "Y_pred = [np.argmax(j) for j in model.predict(X_train)]\n",
    "confusion_matrix = metrics.confusion_matrix(Y_train, Y_pred)\n",
    "print('confusion matrix train:\\n', confusion_matrix)"
   ]
  },
  {
   "cell_type": "code",
   "execution_count": null,
   "metadata": {},
   "outputs": [],
   "source": [
    "from keras.models import load_model\n",
    "model.save('my_first_model.h5')"
   ]
  }
 ],
 "metadata": {
  "kernelspec": {
   "display_name": "Python 3",
   "language": "python",
   "name": "python3"
  },
  "language_info": {
   "codemirror_mode": {
    "name": "ipython",
    "version": 3
   },
   "file_extension": ".py",
   "mimetype": "text/x-python",
   "name": "python",
   "nbconvert_exporter": "python",
   "pygments_lexer": "ipython3",
   "version": "3.6.7"
  }
 },
 "nbformat": 4,
 "nbformat_minor": 2
}
